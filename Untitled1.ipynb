{
  "nbformat": 4,
  "nbformat_minor": 0,
  "metadata": {
    "colab": {
      "provenance": [],
      "mount_file_id": "1RFQoUIqvxzOEnwRP-yJarCLuuN6Q6eIi",
      "authorship_tag": "ABX9TyPQtCDcQxJdPA3PtkMfa05H",
      "include_colab_link": true
    },
    "kernelspec": {
      "name": "python3",
      "display_name": "Python 3"
    },
    "language_info": {
      "name": "python"
    },
    "accelerator": "GPU",
    "gpuClass": "standard"
  },
  "cells": [
    {
      "cell_type": "markdown",
      "metadata": {
        "id": "view-in-github",
        "colab_type": "text"
      },
      "source": [
        "<a href=\"https://colab.research.google.com/github/d7anSeR/lab5_python/blob/main/Untitled1.ipynb\" target=\"_parent\"><img src=\"https://colab.research.google.com/assets/colab-badge.svg\" alt=\"Open In Colab\"/></a>"
      ]
    },
    {
      "cell_type": "code",
      "source": [
        "!pip install pymorphy2"
      ],
      "metadata": {
        "colab": {
          "base_uri": "https://localhost:8080/"
        },
        "id": "5qD-bTc-QfRB",
        "outputId": "4c5927f8-f755-4eef-89fb-ccb9d0153e66"
      },
      "execution_count": null,
      "outputs": [
        {
          "output_type": "stream",
          "name": "stdout",
          "text": [
            "Looking in indexes: https://pypi.org/simple, https://us-python.pkg.dev/colab-wheels/public/simple/\n",
            "Collecting pymorphy2\n",
            "  Downloading pymorphy2-0.9.1-py3-none-any.whl (55 kB)\n",
            "\u001b[K     |████████████████████████████████| 55 kB 3.7 MB/s \n",
            "\u001b[?25hCollecting docopt>=0.6\n",
            "  Downloading docopt-0.6.2.tar.gz (25 kB)\n",
            "Collecting pymorphy2-dicts-ru<3.0,>=2.4\n",
            "  Downloading pymorphy2_dicts_ru-2.4.417127.4579844-py2.py3-none-any.whl (8.2 MB)\n",
            "\u001b[K     |████████████████████████████████| 8.2 MB 22.5 MB/s \n",
            "\u001b[?25hCollecting dawg-python>=0.7.1\n",
            "  Downloading DAWG_Python-0.7.2-py2.py3-none-any.whl (11 kB)\n",
            "Building wheels for collected packages: docopt\n",
            "  Building wheel for docopt (setup.py) ... \u001b[?25l\u001b[?25hdone\n",
            "  Created wheel for docopt: filename=docopt-0.6.2-py2.py3-none-any.whl size=13723 sha256=1d7c3bdc2b2f2a785e3c450378c042ba0d61246e925bab1b30d08eafdda031d7\n",
            "  Stored in directory: /root/.cache/pip/wheels/56/ea/58/ead137b087d9e326852a851351d1debf4ada529b6ac0ec4e8c\n",
            "Successfully built docopt\n",
            "Installing collected packages: pymorphy2-dicts-ru, docopt, dawg-python, pymorphy2\n",
            "Successfully installed dawg-python-0.7.2 docopt-0.6.2 pymorphy2-0.9.1 pymorphy2-dicts-ru-2.4.417127.4579844\n"
          ]
        }
      ]
    },
    {
      "cell_type": "code",
      "source": [
        "import re\n",
        "import os\n",
        "import string\n",
        "\n",
        "\n",
        "import torch\n",
        "import torch.nn as nn\n",
        "import torch.nn.functional as F\n",
        "from torch.autograd import Variable\n",
        "import torchvision\n",
        "import numpy as np\n",
        "import pandas as pd\n",
        "import matplotlib.pyplot as plt\n",
        "import nltk\n",
        "from nltk.tokenize import word_tokenize\n",
        "from nltk import PorterStemmer\n",
        "from nltk import WordNetLemmatizer\n",
        "from nltk.corpus import stopwords\n",
        "import pymorphy2\n",
        "from sklearn.feature_extraction.text import CountVectorizer\n",
        "from sklearn.model_selection import train_test_split\n",
        "from sklearn.linear_model import LigisticRegression\n",
        "from sklearn.preprocessing import StandardScaler\n",
        "nltk.download('stopwords')\n",
        "morph = pymorphy2.MorphAnalyzer()\n",
        "russian_stopwords = stopwords.words(\"russian\")\n"
      ],
      "metadata": {
        "colab": {
          "base_uri": "https://localhost:8080/"
        },
        "id": "6g_c5Ek2PbSK",
        "outputId": "68f342d4-1fbf-4951-fc3c-e28a9b7dbaf8"
      },
      "execution_count": null,
      "outputs": [
        {
          "output_type": "stream",
          "name": "stderr",
          "text": [
            "[nltk_data] Downloading package stopwords to /root/nltk_data...\n",
            "[nltk_data]   Unzipping corpora/stopwords.zip.\n"
          ]
        }
      ]
    },
    {
      "cell_type": "code",
      "source": [
        "torch.cuda.is_available()"
      ],
      "metadata": {
        "colab": {
          "base_uri": "https://localhost:8080/"
        },
        "id": "myPQh3wSQGPt",
        "outputId": "4e6fc18c-3470-4ebc-fed1-0792d686b797"
      },
      "execution_count": null,
      "outputs": [
        {
          "output_type": "execute_result",
          "data": {
            "text/plain": [
              "True"
            ]
          },
          "metadata": {},
          "execution_count": 4
        }
      ]
    },
    {
      "cell_type": "code",
      "source": [
        "def lemmatize_(text) -> list:\n",
        "    '''lemmatization of the text'''\n",
        "    new_list = []\n",
        "    _string = \"\"\n",
        "    tt = str.maketrans(dict.fromkeys(string.punctuation))\n",
        "    elem = text.translate(tt)\n",
        "    if elem is not None:\n",
        "        list_words = elem.split()\n",
        "    for word in list_words:\n",
        "        p = morph.parse(word)[0]\n",
        "        new_list.append(p.normal_form)\n",
        "        _string += str(p.normal_form)\n",
        "        _string += ' '\n",
        "    return _string"
      ],
      "metadata": {
        "id": "SyiKUq_oNyrD"
      },
      "execution_count": null,
      "outputs": []
    },
    {
      "cell_type": "code",
      "source": [
        "class LogisticRegression(nn.Module):\n",
        "    def __init__(self):\n",
        "        super(LogisticRegression, self).__init__()\n",
        "        self.linear1 = nn.Linear(7752, 100)\n",
        "        self.linear2 = nn.Linear(100, 10)\n",
        "        self.linear3 = nn.Linear(10, 2)\n",
        "        \n",
        "    def forward(self, x):\n",
        "        x = F.relu(self.linear1(x))\n",
        "        x = F.relu(self.linear2(x))\n",
        "        x = self.linear3(x)\n",
        "        return x\n"
      ],
      "metadata": {
        "id": "3OO5D5RpTG2a"
      },
      "execution_count": null,
      "outputs": []
    },
    {
      "cell_type": "code",
      "execution_count": null,
      "metadata": {
        "colab": {
          "base_uri": "https://localhost:8080/",
          "height": 424
        },
        "id": "knsfaVOSNaA7",
        "outputId": "c913c24d-c955-4ab4-d448-5c47b33ed5b3"
      },
      "outputs": [
        {
          "output_type": "execute_result",
          "data": {
            "text/plain": [
              "      class_name                                             review\n",
              "0              1  побег из шоушенка нельзя так просто взять и не...\n",
              "1              0  сумерки на фильм попасть случайно никогда особ...\n",
              "2              1  побег из шоушенка тюрьма это страшный место он...\n",
              "3              0  сумерки сказать сразу смотреть фильм скатить и...\n",
              "4              1  побег из шоушенка побег из шоушенка экранизаци...\n",
              "...          ...                                                ...\n",
              "1995           0  звёздный война пробуждение сила как фанат сага...\n",
              "1996           1  тайна коко к сожаление в последний время такой...\n",
              "1997           0  звёздный война пробуждение сила звёздный война...\n",
              "1998           1  тайна коко студия pixar совместно с disney под...\n",
              "1999           0  властелин кольцо два крепость ни раз в жизнь н...\n",
              "\n",
              "[2000 rows x 2 columns]"
            ],
            "text/html": [
              "\n",
              "  <div id=\"df-77cedb9b-c6a2-440d-87ae-d85b43af76b4\">\n",
              "    <div class=\"colab-df-container\">\n",
              "      <div>\n",
              "<style scoped>\n",
              "    .dataframe tbody tr th:only-of-type {\n",
              "        vertical-align: middle;\n",
              "    }\n",
              "\n",
              "    .dataframe tbody tr th {\n",
              "        vertical-align: top;\n",
              "    }\n",
              "\n",
              "    .dataframe thead th {\n",
              "        text-align: right;\n",
              "    }\n",
              "</style>\n",
              "<table border=\"1\" class=\"dataframe\">\n",
              "  <thead>\n",
              "    <tr style=\"text-align: right;\">\n",
              "      <th></th>\n",
              "      <th>class_name</th>\n",
              "      <th>review</th>\n",
              "    </tr>\n",
              "  </thead>\n",
              "  <tbody>\n",
              "    <tr>\n",
              "      <th>0</th>\n",
              "      <td>1</td>\n",
              "      <td>побег из шоушенка нельзя так просто взять и не...</td>\n",
              "    </tr>\n",
              "    <tr>\n",
              "      <th>1</th>\n",
              "      <td>0</td>\n",
              "      <td>сумерки на фильм попасть случайно никогда особ...</td>\n",
              "    </tr>\n",
              "    <tr>\n",
              "      <th>2</th>\n",
              "      <td>1</td>\n",
              "      <td>побег из шоушенка тюрьма это страшный место он...</td>\n",
              "    </tr>\n",
              "    <tr>\n",
              "      <th>3</th>\n",
              "      <td>0</td>\n",
              "      <td>сумерки сказать сразу смотреть фильм скатить и...</td>\n",
              "    </tr>\n",
              "    <tr>\n",
              "      <th>4</th>\n",
              "      <td>1</td>\n",
              "      <td>побег из шоушенка побег из шоушенка экранизаци...</td>\n",
              "    </tr>\n",
              "    <tr>\n",
              "      <th>...</th>\n",
              "      <td>...</td>\n",
              "      <td>...</td>\n",
              "    </tr>\n",
              "    <tr>\n",
              "      <th>1995</th>\n",
              "      <td>0</td>\n",
              "      <td>звёздный война пробуждение сила как фанат сага...</td>\n",
              "    </tr>\n",
              "    <tr>\n",
              "      <th>1996</th>\n",
              "      <td>1</td>\n",
              "      <td>тайна коко к сожаление в последний время такой...</td>\n",
              "    </tr>\n",
              "    <tr>\n",
              "      <th>1997</th>\n",
              "      <td>0</td>\n",
              "      <td>звёздный война пробуждение сила звёздный война...</td>\n",
              "    </tr>\n",
              "    <tr>\n",
              "      <th>1998</th>\n",
              "      <td>1</td>\n",
              "      <td>тайна коко студия pixar совместно с disney под...</td>\n",
              "    </tr>\n",
              "    <tr>\n",
              "      <th>1999</th>\n",
              "      <td>0</td>\n",
              "      <td>властелин кольцо два крепость ни раз в жизнь н...</td>\n",
              "    </tr>\n",
              "  </tbody>\n",
              "</table>\n",
              "<p>2000 rows × 2 columns</p>\n",
              "</div>\n",
              "      <button class=\"colab-df-convert\" onclick=\"convertToInteractive('df-77cedb9b-c6a2-440d-87ae-d85b43af76b4')\"\n",
              "              title=\"Convert this dataframe to an interactive table.\"\n",
              "              style=\"display:none;\">\n",
              "        \n",
              "  <svg xmlns=\"http://www.w3.org/2000/svg\" height=\"24px\"viewBox=\"0 0 24 24\"\n",
              "       width=\"24px\">\n",
              "    <path d=\"M0 0h24v24H0V0z\" fill=\"none\"/>\n",
              "    <path d=\"M18.56 5.44l.94 2.06.94-2.06 2.06-.94-2.06-.94-.94-2.06-.94 2.06-2.06.94zm-11 1L8.5 8.5l.94-2.06 2.06-.94-2.06-.94L8.5 2.5l-.94 2.06-2.06.94zm10 10l.94 2.06.94-2.06 2.06-.94-2.06-.94-.94-2.06-.94 2.06-2.06.94z\"/><path d=\"M17.41 7.96l-1.37-1.37c-.4-.4-.92-.59-1.43-.59-.52 0-1.04.2-1.43.59L10.3 9.45l-7.72 7.72c-.78.78-.78 2.05 0 2.83L4 21.41c.39.39.9.59 1.41.59.51 0 1.02-.2 1.41-.59l7.78-7.78 2.81-2.81c.8-.78.8-2.07 0-2.86zM5.41 20L4 18.59l7.72-7.72 1.47 1.35L5.41 20z\"/>\n",
              "  </svg>\n",
              "      </button>\n",
              "      \n",
              "  <style>\n",
              "    .colab-df-container {\n",
              "      display:flex;\n",
              "      flex-wrap:wrap;\n",
              "      gap: 12px;\n",
              "    }\n",
              "\n",
              "    .colab-df-convert {\n",
              "      background-color: #E8F0FE;\n",
              "      border: none;\n",
              "      border-radius: 50%;\n",
              "      cursor: pointer;\n",
              "      display: none;\n",
              "      fill: #1967D2;\n",
              "      height: 32px;\n",
              "      padding: 0 0 0 0;\n",
              "      width: 32px;\n",
              "    }\n",
              "\n",
              "    .colab-df-convert:hover {\n",
              "      background-color: #E2EBFA;\n",
              "      box-shadow: 0px 1px 2px rgba(60, 64, 67, 0.3), 0px 1px 3px 1px rgba(60, 64, 67, 0.15);\n",
              "      fill: #174EA6;\n",
              "    }\n",
              "\n",
              "    [theme=dark] .colab-df-convert {\n",
              "      background-color: #3B4455;\n",
              "      fill: #D2E3FC;\n",
              "    }\n",
              "\n",
              "    [theme=dark] .colab-df-convert:hover {\n",
              "      background-color: #434B5C;\n",
              "      box-shadow: 0px 1px 3px 1px rgba(0, 0, 0, 0.15);\n",
              "      filter: drop-shadow(0px 1px 2px rgba(0, 0, 0, 0.3));\n",
              "      fill: #FFFFFF;\n",
              "    }\n",
              "  </style>\n",
              "\n",
              "      <script>\n",
              "        const buttonEl =\n",
              "          document.querySelector('#df-77cedb9b-c6a2-440d-87ae-d85b43af76b4 button.colab-df-convert');\n",
              "        buttonEl.style.display =\n",
              "          google.colab.kernel.accessAllowed ? 'block' : 'none';\n",
              "\n",
              "        async function convertToInteractive(key) {\n",
              "          const element = document.querySelector('#df-77cedb9b-c6a2-440d-87ae-d85b43af76b4');\n",
              "          const dataTable =\n",
              "            await google.colab.kernel.invokeFunction('convertToInteractive',\n",
              "                                                     [key], {});\n",
              "          if (!dataTable) return;\n",
              "\n",
              "          const docLinkHtml = 'Like what you see? Visit the ' +\n",
              "            '<a target=\"_blank\" href=https://colab.research.google.com/notebooks/data_table.ipynb>data table notebook</a>'\n",
              "            + ' to learn more about interactive tables.';\n",
              "          element.innerHTML = '';\n",
              "          dataTable['output_type'] = 'display_data';\n",
              "          await google.colab.output.renderOutput(dataTable, element);\n",
              "          const docLink = document.createElement('div');\n",
              "          docLink.innerHTML = docLinkHtml;\n",
              "          element.appendChild(docLink);\n",
              "        }\n",
              "      </script>\n",
              "    </div>\n",
              "  </div>\n",
              "  "
            ]
          },
          "metadata": {},
          "execution_count": 7
        }
      ],
      "source": [
        "stopword = [\"что\", \"я\", \"в\", \"и\", \"а\", \"но\", \"для\", \"не\", \"ни\", \"когда\", \"чтобы\", \"после\", \"он\", \"она\", \"оно\",\n",
        "                 \"они\", \"потому\", \"нету\", \"вот\", \"без\", \"все\", \"этот\", \"тот\", \"то\", \"форрест\", \"гамп\", \"я\", \"интерстеллар\"]\n",
        "name_class_good = \"good\"\n",
        "name_class_bad = \"bad\"\n",
        "dataset = os.path.join(os.path.join('drive', 'MyDrive'),'dataset')\n",
        "counter = 0\n",
        "label = []\n",
        "review = []\n",
        "for elem in range(1, 1001):\n",
        "  f1 = open(os.path.join(os.path.join(dataset, name_class_good), f\"{str(elem).zfill(4)}.txt\"), mode='rt', encoding='utf-8')\n",
        "  txt = f1.read()\n",
        "  review.append(lemmatize_(txt))\n",
        "  label.append(1)\n",
        "  f1.close()\n",
        "  f2 = open(os.path.join(os.path.join(dataset, name_class_bad), f\"{str(elem).zfill(4)}.txt\"), mode='rt', encoding='utf-8')\n",
        "  txt = f2.read()\n",
        "  review.append(lemmatize_(txt))\n",
        "  label.append(0)\n",
        "  f2.close()\n",
        "df = pd.DataFrame({\"class_name\": label,\"review\": review})\n",
        "df"
      ]
    },
    {
      "cell_type": "code",
      "source": [
        "stopWords = stopwords.words('russian')\n",
        "\n",
        "vectorizer = CountVectorizer(stop_words=stopWords)\n",
        "sparse_matrix = vectorizer.fit_transform(df['review']).toarray()\n",
        "print(sparse_matrix)\n",
        "sparse_matrix.shape"
      ],
      "metadata": {
        "colab": {
          "base_uri": "https://localhost:8080/"
        },
        "id": "-IO7sHHBOAgq",
        "outputId": "f0fc9936-518b-4187-9819-81913f2ad212"
      },
      "execution_count": null,
      "outputs": [
        {
          "output_type": "stream",
          "name": "stdout",
          "text": [
            "[[0 0 0 ... 0 0 0]\n",
            " [1 0 0 ... 0 0 0]\n",
            " [0 0 0 ... 0 0 0]\n",
            " ...\n",
            " [1 0 0 ... 0 0 0]\n",
            " [1 0 0 ... 0 0 0]\n",
            " [2 0 0 ... 0 0 0]]\n"
          ]
        },
        {
          "output_type": "execute_result",
          "data": {
            "text/plain": [
              "(2000, 7752)"
            ]
          },
          "metadata": {},
          "execution_count": 8
        }
      ]
    },
    {
      "cell_type": "code",
      "source": [
        "x_train, heap_x, y_train, heap_y = train_test_split(sparse_matrix, np.array(df[\"class_name\"]), train_size = 0.8, shuffle=False)\n"
      ],
      "metadata": {
        "id": "setECff3TZY_"
      },
      "execution_count": null,
      "outputs": []
    },
    {
      "cell_type": "code",
      "source": [
        "x_train.shape, heap_x.shape"
      ],
      "metadata": {
        "colab": {
          "base_uri": "https://localhost:8080/"
        },
        "id": "eVLMhmC_Yt0d",
        "outputId": "bc9f64a1-028f-4873-9010-d478639cf613"
      },
      "execution_count": null,
      "outputs": [
        {
          "output_type": "execute_result",
          "data": {
            "text/plain": [
              "((1600, 7752), (400, 7752))"
            ]
          },
          "metadata": {},
          "execution_count": 16
        }
      ]
    },
    {
      "cell_type": "code",
      "source": [
        "x_test, x_val, y_test, y_val = train_test_split(heap_x, heap_y, test_size = 0.5, shuffle=False)"
      ],
      "metadata": {
        "id": "WBlrYAChY1kk"
      },
      "execution_count": null,
      "outputs": []
    },
    {
      "cell_type": "code",
      "source": [
        "x_test.shape, x_val.shape"
      ],
      "metadata": {
        "colab": {
          "base_uri": "https://localhost:8080/"
        },
        "id": "MfVEZJMgZSqJ",
        "outputId": "f19583da-03e1-4b59-f410-b923e521785a"
      },
      "execution_count": null,
      "outputs": [
        {
          "output_type": "execute_result",
          "data": {
            "text/plain": [
              "((200, 7752), (200, 7752))"
            ]
          },
          "metadata": {},
          "execution_count": 18
        }
      ]
    },
    {
      "cell_type": "code",
      "source": [
        "pipline= make_piipeline(StandardScaler(), LogisticRegression())"
      ],
      "metadata": {
        "id": "kkYeYnKDiKDc"
      },
      "execution_count": null,
      "outputs": []
    },
    {
      "cell_type": "code",
      "source": [
        "pipline.fit(x_train, y_train)"
      ],
      "metadata": {
        "id": "65B2jxWHjpIG"
      },
      "execution_count": null,
      "outputs": []
    },
    {
      "cell_type": "code",
      "source": [
        "clf_svm = svm.LinearSVC()\n",
        "clf_knn = neighbors.KNeighborsClassifier(n_neighbors = 5)"
      ],
      "metadata": {
        "id": "lIGYGMFZoyKC"
      },
      "execution_count": null,
      "outputs": []
    },
    {
      "cell_type": "markdown",
      "source": [
        "обучаем классификатор"
      ],
      "metadata": {
        "id": "c7mGQT1VoTyD"
      }
    },
    {
      "cell_type": "code",
      "source": [
        "clf_svm.fit(x_train, y_train)\n",
        "clf_knn.fit(x_train, y_train)"
      ],
      "metadata": {
        "id": "TTUS_dJInzln"
      },
      "execution_count": null,
      "outputs": []
    },
    {
      "cell_type": "code",
      "source": [
        "device = \"cuda\" if torch.cuda.is_available() else \"cpu\"\n",
        "if device == \"cuda\":\n",
        "    torch.cuda.manual_seed_all(1234)\n",
        "criterion = nn.CrossEntropyLoss()\n",
        "model = LogisticRegression()\n",
        "optimizer = torch.optim.Adam(params=model.parameters(), lr=0.01)"
      ],
      "metadata": {
        "id": "WqJVc98VOlM6"
      },
      "execution_count": null,
      "outputs": []
    },
    {
      "cell_type": "code",
      "source": [
        "x_train = Variable(torch.from_numpy(x_train)).float()\n",
        "y_train = Variable(torch.from_numpy(y_train)).long()\n"
      ],
      "metadata": {
        "id": "vhirir56Ol5F"
      },
      "execution_count": null,
      "outputs": []
    },
    {
      "cell_type": "code",
      "source": [
        "lr_list=[0.01,0.1,1]\n",
        "batch_size=[1000,500,100]\n",
        "epochs = 9\n",
        "\n",
        "loss_values = []\n",
        "i = 0.01\n",
        "for epoch in range(epochs):\n",
        "    criterion = nn.CrossEntropyLoss()\n",
        "    model.train()\n",
        "    optimizer = torch.optim.Adam(params=model.parameters() , lr=i)\n",
        "    optimizer.zero_grad()\n",
        "    y_pred = model(x_train)\n",
        "    loss = criterion(y_pred, y_train)\n",
        "    loss_values.append(loss.item())\n",
        "    pred = torch.max(y_pred, 1)[1].eq(y_train).sum()\n",
        "    acc = pred * 100.0 / len(x_train)\n",
        "    print('Epoch: {}, Loss: {}, Accuracy: {}%'.format(epoch+1, loss.item(), acc.numpy()))\n",
        "    loss.backward()\n",
        "    if epoch%3 ==0:\n",
        "        i += 0.2\n",
        "    optimizer.step()"
      ],
      "metadata": {
        "colab": {
          "base_uri": "https://localhost:8080/"
        },
        "id": "H04Tp78qOqNC",
        "outputId": "1f5718a2-15d0-41e6-a74e-cf7d0b367612"
      },
      "execution_count": null,
      "outputs": [
        {
          "output_type": "stream",
          "name": "stdout",
          "text": [
            "Epoch: 1, Loss: 0.710174560546875, Accuracy: 50.0%\n",
            "Epoch: 2, Loss: 0.5813906788825989, Accuracy: 58.75%\n",
            "Epoch: 3, Loss: 88.82139587402344, Accuracy: 50.0%\n",
            "Epoch: 4, Loss: 928.0296630859375, Accuracy: 50.0%\n",
            "Epoch: 5, Loss: 0.0, Accuracy: 100.0%\n",
            "Epoch: 6, Loss: 0.0, Accuracy: 100.0%\n",
            "Epoch: 7, Loss: 0.0, Accuracy: 100.0%\n",
            "Epoch: 8, Loss: 0.0, Accuracy: 100.0%\n",
            "Epoch: 9, Loss: 0.0, Accuracy: 100.0%\n"
          ]
        }
      ]
    },
    {
      "cell_type": "code",
      "source": [
        "plt.plot(loss_values)\n",
        "plt.title('Loss Value vs Epochs')\n",
        "plt.xlabel('Epochs')\n",
        "plt.ylabel('Loss')\n",
        "plt.legend(['Loss'])\n",
        "plt.show() "
      ],
      "metadata": {
        "colab": {
          "base_uri": "https://localhost:8080/",
          "height": 295
        },
        "id": "Ejmd412WPC10",
        "outputId": "9fd26a94-084c-46e7-a3df-a90f9f6b3f7f"
      },
      "execution_count": null,
      "outputs": [
        {
          "output_type": "display_data",
          "data": {
            "text/plain": [
              "<Figure size 432x288 with 1 Axes>"
            ],
            "image/png": "[encoded data removed]"
          },
          "metadata": {
            "needs_background": "light"
          }
        }
      ]
    },
    {
      "cell_type": "code",
      "source": [
        "x_test = Variable(torch.from_numpy(x_test)).float()\n",
        "y_test = Variable(torch.from_numpy(y_test)).long()\n",
        "model.eval()\n",
        "with torch.no_grad():\n",
        "    y_pred = model(x_test)\n",
        "    print(y_test)       \n",
        "    print(y_pred)\n",
        "    print(torch.max(y_pred, -1)[1])  \n",
        "    print(x_test)        \n",
        "    loss = criterion(y_pred, y_test)        \n",
        "    pred = torch.max(y_pred, 1)[1].eq(y_test).sum()\n",
        "    print(pred)              \n",
        "    print (\"Accuracy : {}%\".format(100*pred/len(x_test)))"
      ],
      "metadata": {
        "colab": {
          "base_uri": "https://localhost:8080/"
        },
        "id": "GxHH_iwTPIJL",
        "outputId": "f80a1714-cb6a-4230-a7d9-c6046041c0a4"
      },
      "execution_count": null,
      "outputs": [
        {
          "output_type": "stream",
          "name": "stdout",
          "text": [
            "tensor([1, 0, 1, 0, 1, 0, 1, 0, 1, 0, 1, 0, 1, 0, 1, 0, 1, 0, 1, 0, 1, 0, 1, 0,\n",
            "        1, 0, 1, 0, 1, 0, 1, 0, 1, 0, 1, 0, 1, 0, 1, 0, 1, 0, 1, 0, 1, 0, 1, 0,\n",
            "        1, 0, 1, 0, 1, 0, 1, 0, 1, 0, 1, 0, 1, 0, 1, 0, 1, 0, 1, 0, 1, 0, 1, 0,\n",
            "        1, 0, 1, 0, 1, 0, 1, 0, 1, 0, 1, 0, 1, 0, 1, 0, 1, 0, 1, 0, 1, 0, 1, 0,\n",
            "        1, 0, 1, 0, 1, 0, 1, 0, 1, 0, 1, 0, 1, 0, 1, 0, 1, 0, 1, 0, 1, 0, 1, 0,\n",
            "        1, 0, 1, 0, 1, 0, 1, 0, 1, 0, 1, 0, 1, 0, 1, 0, 1, 0, 1, 0, 1, 0, 1, 0,\n",
            "        1, 0, 1, 0, 1, 0, 1, 0, 1, 0, 1, 0, 1, 0, 1, 0, 1, 0, 1, 0, 1, 0, 1, 0,\n",
            "        1, 0, 1, 0, 1, 0, 1, 0, 1, 0, 1, 0, 1, 0, 1, 0, 1, 0, 1, 0, 1, 0, 1, 0,\n",
            "        1, 0, 1, 0, 1, 0, 1, 0])\n",
            "tensor([[-490.2105, 1027.5879],\n",
            "        [  30.0604,  -17.0992],\n",
            "        [ -23.9581,   54.8093],\n",
            "        [  79.6642,  -44.2029],\n",
            "        [ -88.8959,  197.2350],\n",
            "        [  45.8584,  -20.7920],\n",
            "        [ -32.4874,   90.6718],\n",
            "        [  26.2055,  -15.1327],\n",
            "        [-110.6355,  322.9086],\n",
            "        [ 106.5702,  -59.0319],\n",
            "        [-114.0573,  359.6203],\n",
            "        [  61.1763,  -34.8530],\n",
            "        [ -32.5637,   88.8837],\n",
            "        [  79.8924,  -32.0331],\n",
            "        [ -25.2135,   48.7585],\n",
            "        [  27.9845,  -14.2652],\n",
            "        [ -11.8939,   58.8490],\n",
            "        [  28.0439,  -11.7345],\n",
            "        [ -17.1150,   51.8434],\n",
            "        [  46.0266,  -19.1672],\n",
            "        [-490.2105, 1027.5879],\n",
            "        [  30.0604,  -17.0992],\n",
            "        [ -23.9581,   54.8093],\n",
            "        [  79.6642,  -44.2029],\n",
            "        [ -88.8959,  197.2350],\n",
            "        [  45.8584,  -20.7920],\n",
            "        [ -32.4874,   90.6718],\n",
            "        [  26.2055,  -15.1327],\n",
            "        [-110.6355,  322.9086],\n",
            "        [ 106.5702,  -59.0319],\n",
            "        [-114.0573,  359.6203],\n",
            "        [  61.1763,  -34.8530],\n",
            "        [ -32.5637,   88.8837],\n",
            "        [  79.8924,  -32.0331],\n",
            "        [ -25.2135,   48.7585],\n",
            "        [  27.9845,  -14.2652],\n",
            "        [ -11.8939,   58.8490],\n",
            "        [  28.0439,  -11.7345],\n",
            "        [ -17.1150,   51.8434],\n",
            "        [  46.0266,  -19.1672],\n",
            "        [-490.2105, 1027.5879],\n",
            "        [  30.0604,  -17.0992],\n",
            "        [ -23.9581,   54.8093],\n",
            "        [  79.6642,  -44.2029],\n",
            "        [ -88.8959,  197.2350],\n",
            "        [  45.8584,  -20.7920],\n",
            "        [ -32.4874,   90.6718],\n",
            "        [  26.2055,  -15.1327],\n",
            "        [-110.6355,  322.9086],\n",
            "        [ 106.5702,  -59.0319],\n",
            "        [-114.0573,  359.6203],\n",
            "        [  61.1763,  -34.8530],\n",
            "        [ -32.5637,   88.8837],\n",
            "        [  79.8924,  -32.0331],\n",
            "        [ -25.2135,   48.7585],\n",
            "        [  27.9845,  -14.2652],\n",
            "        [ -11.8939,   58.8490],\n",
            "        [  28.0439,  -11.7345],\n",
            "        [ -17.1150,   51.8434],\n",
            "        [  46.0266,  -19.1672],\n",
            "        [-490.2105, 1027.5879],\n",
            "        [  30.0604,  -17.0992],\n",
            "        [ -23.9581,   54.8093],\n",
            "        [  79.6642,  -44.2029],\n",
            "        [ -88.8959,  197.2350],\n",
            "        [  45.8584,  -20.7920],\n",
            "        [ -32.4874,   90.6718],\n",
            "        [  26.2055,  -15.1327],\n",
            "        [-110.6355,  322.9086],\n",
            "        [ 106.5702,  -59.0319],\n",
            "        [-114.0573,  359.6203],\n",
            "        [  61.1763,  -34.8530],\n",
            "        [ -32.5637,   88.8837],\n",
            "        [  79.8924,  -32.0331],\n",
            "        [ -25.2135,   48.7585],\n",
            "        [  27.9845,  -14.2652],\n",
            "        [ -11.8939,   58.8490],\n",
            "        [  28.0439,  -11.7345],\n",
            "        [ -17.1150,   51.8434],\n",
            "        [  46.0266,  -19.1672],\n",
            "        [-490.2105, 1027.5879],\n",
            "        [  30.0604,  -17.0992],\n",
            "        [ -23.9581,   54.8093],\n",
            "        [  79.6642,  -44.2029],\n",
            "        [ -88.8959,  197.2350],\n",
            "        [  45.8584,  -20.7920],\n",
            "        [ -32.4874,   90.6718],\n",
            "        [  26.2055,  -15.1327],\n",
            "        [-110.6355,  322.9086],\n",
            "        [ 106.5702,  -59.0319],\n",
            "        [-114.0573,  359.6203],\n",
            "        [  61.1763,  -34.8530],\n",
            "        [ -32.5637,   88.8837],\n",
            "        [  79.8924,  -32.0331],\n",
            "        [ -25.2135,   48.7585],\n",
            "        [  27.9845,  -14.2652],\n",
            "        [ -11.8939,   58.8490],\n",
            "        [  28.0439,  -11.7345],\n",
            "        [ -17.1150,   51.8434],\n",
            "        [  46.0266,  -19.1672],\n",
            "        [-490.2105, 1027.5879],\n",
            "        [  30.0604,  -17.0992],\n",
            "        [ -23.9581,   54.8093],\n",
            "        [  79.6642,  -44.2029],\n",
            "        [ -88.8959,  197.2350],\n",
            "        [  45.8584,  -20.7920],\n",
            "        [ -32.4874,   90.6718],\n",
            "        [  26.2055,  -15.1327],\n",
            "        [-110.6355,  322.9086],\n",
            "        [ 106.5702,  -59.0319],\n",
            "        [-114.0573,  359.6203],\n",
            "        [  61.1763,  -34.8530],\n",
            "        [ -32.5637,   88.8837],\n",
            "        [  79.8924,  -32.0331],\n",
            "        [ -25.2135,   48.7585],\n",
            "        [  27.9845,  -14.2652],\n",
            "        [ -11.8939,   58.8490],\n",
            "        [  28.0439,  -11.7345],\n",
            "        [ -17.1150,   51.8434],\n",
            "        [  46.0266,  -19.1672],\n",
            "        [-490.2105, 1027.5879],\n",
            "        [  30.0604,  -17.0992],\n",
            "        [ -23.9581,   54.8093],\n",
            "        [  79.6642,  -44.2029],\n",
            "        [ -88.8959,  197.2350],\n",
            "        [  45.8584,  -20.7920],\n",
            "        [ -32.4874,   90.6718],\n",
            "        [  26.2055,  -15.1327],\n",
            "        [-110.6355,  322.9086],\n",
            "        [ 106.5702,  -59.0319],\n",
            "        [-114.0573,  359.6203],\n",
            "        [  61.1763,  -34.8530],\n",
            "        [ -32.5637,   88.8837],\n",
            "        [  79.8924,  -32.0331],\n",
            "        [ -25.2135,   48.7585],\n",
            "        [  27.9845,  -14.2652],\n",
            "        [ -11.8939,   58.8490],\n",
            "        [  28.0439,  -11.7345],\n",
            "        [ -17.1150,   51.8434],\n",
            "        [  46.0266,  -19.1672],\n",
            "        [-490.2105, 1027.5879],\n",
            "        [  30.0604,  -17.0992],\n",
            "        [ -23.9581,   54.8093],\n",
            "        [  79.6642,  -44.2029],\n",
            "        [ -88.8959,  197.2350],\n",
            "        [  45.8584,  -20.7920],\n",
            "        [ -32.4874,   90.6718],\n",
            "        [  26.2055,  -15.1327],\n",
            "        [-110.6355,  322.9086],\n",
            "        [ 106.5702,  -59.0319],\n",
            "        [-114.0573,  359.6203],\n",
            "        [  61.1763,  -34.8530],\n",
            "        [ -32.5637,   88.8837],\n",
            "        [  79.8924,  -32.0331],\n",
            "        [ -25.2135,   48.7585],\n",
            "        [  27.9845,  -14.2652],\n",
            "        [ -11.8939,   58.8490],\n",
            "        [  28.0439,  -11.7345],\n",
            "        [ -17.1150,   51.8434],\n",
            "        [  46.0266,  -19.1672],\n",
            "        [-490.2105, 1027.5879],\n",
            "        [  30.0604,  -17.0992],\n",
            "        [ -23.9581,   54.8093],\n",
            "        [  79.6642,  -44.2029],\n",
            "        [ -88.8959,  197.2350],\n",
            "        [  45.8584,  -20.7920],\n",
            "        [ -32.4874,   90.6718],\n",
            "        [  26.2055,  -15.1327],\n",
            "        [-110.6355,  322.9086],\n",
            "        [ 106.5702,  -59.0319],\n",
            "        [-114.0573,  359.6203],\n",
            "        [  61.1763,  -34.8530],\n",
            "        [ -32.5637,   88.8837],\n",
            "        [  79.8924,  -32.0331],\n",
            "        [ -25.2135,   48.7585],\n",
            "        [  27.9845,  -14.2652],\n",
            "        [ -11.8939,   58.8490],\n",
            "        [  28.0439,  -11.7345],\n",
            "        [ -17.1150,   51.8434],\n",
            "        [  46.0266,  -19.1672],\n",
            "        [-490.2105, 1027.5879],\n",
            "        [  30.0604,  -17.0992],\n",
            "        [ -23.9581,   54.8093],\n",
            "        [  79.6642,  -44.2029],\n",
            "        [ -88.8959,  197.2350],\n",
            "        [  45.8584,  -20.7920],\n",
            "        [ -32.4874,   90.6718],\n",
            "        [  26.2055,  -15.1327],\n",
            "        [-110.6355,  322.9086],\n",
            "        [ 106.5702,  -59.0319],\n",
            "        [-114.0573,  359.6203],\n",
            "        [  61.1763,  -34.8530],\n",
            "        [ -32.5637,   88.8837],\n",
            "        [  79.8924,  -32.0331],\n",
            "        [ -25.2135,   48.7585],\n",
            "        [  27.9845,  -14.2652],\n",
            "        [ -11.8939,   58.8490],\n",
            "        [  28.0439,  -11.7345],\n",
            "        [ -17.1150,   51.8434],\n",
            "        [  46.0266,  -19.1672]])\n",
            "tensor([1, 0, 1, 0, 1, 0, 1, 0, 1, 0, 1, 0, 1, 0, 1, 0, 1, 0, 1, 0, 1, 0, 1, 0,\n",
            "        1, 0, 1, 0, 1, 0, 1, 0, 1, 0, 1, 0, 1, 0, 1, 0, 1, 0, 1, 0, 1, 0, 1, 0,\n",
            "        1, 0, 1, 0, 1, 0, 1, 0, 1, 0, 1, 0, 1, 0, 1, 0, 1, 0, 1, 0, 1, 0, 1, 0,\n",
            "        1, 0, 1, 0, 1, 0, 1, 0, 1, 0, 1, 0, 1, 0, 1, 0, 1, 0, 1, 0, 1, 0, 1, 0,\n",
            "        1, 0, 1, 0, 1, 0, 1, 0, 1, 0, 1, 0, 1, 0, 1, 0, 1, 0, 1, 0, 1, 0, 1, 0,\n",
            "        1, 0, 1, 0, 1, 0, 1, 0, 1, 0, 1, 0, 1, 0, 1, 0, 1, 0, 1, 0, 1, 0, 1, 0,\n",
            "        1, 0, 1, 0, 1, 0, 1, 0, 1, 0, 1, 0, 1, 0, 1, 0, 1, 0, 1, 0, 1, 0, 1, 0,\n",
            "        1, 0, 1, 0, 1, 0, 1, 0, 1, 0, 1, 0, 1, 0, 1, 0, 1, 0, 1, 0, 1, 0, 1, 0,\n",
            "        1, 0, 1, 0, 1, 0, 1, 0])\n",
            "tensor([[0., 0., 0.,  ..., 0., 0., 0.],\n",
            "        [0., 0., 0.,  ..., 0., 0., 0.],\n",
            "        [0., 0., 0.,  ..., 0., 0., 0.],\n",
            "        ...,\n",
            "        [1., 0., 0.,  ..., 0., 0., 1.],\n",
            "        [2., 0., 0.,  ..., 0., 0., 0.],\n",
            "        [1., 0., 0.,  ..., 0., 0., 0.]])\n",
            "tensor(200)\n",
            "Accuracy : 100.0%\n"
          ]
        }
      ]
    },
    {
      "cell_type": "code",
      "source": [],
      "metadata": {
        "id": "q0XEWI6MOqJl"
      },
      "execution_count": null,
      "outputs": []
    }
  ]
}